{
  "nbformat": 4,
  "nbformat_minor": 0,
  "metadata": {
    "colab": {
      "provenance": []
    },
    "kernelspec": {
      "name": "python3",
      "display_name": "Python 3"
    },
    "language_info": {
      "name": "python"
    }
  },
  "cells": [
    {
      "cell_type": "code",
      "execution_count": 31,
      "metadata": {
        "id": "TQ153vNeKa9M"
      },
      "outputs": [],
      "source": [
        "import pandas as pd\n",
        "import sklearn\n",
        "from sklearn.feature_extraction.text import CountVectorizer\n",
        "from sklearn.naive_bayes import MultinomialNB\n",
        "from sklearn.metrics import classification_report\n",
        "from sklearn.metrics import accuracy_score"
      ]
    },
    {
      "cell_type": "code",
      "source": [
        "# Read in the data\n",
        "df_train1 = pd.read_csv(filepath_or_buffer='/Users/christianturner/Downloads/Master Company, Industry, Train.csv', header=0, names=['Company Name','Industry'])\n",
        "df_train = df_train1.dropna().reset_index(drop=True)\n",
        "X_train = df_train['Company Name']\n",
        "y_train = df_train['Industry']\n",
        "\n",
        "# Create a CountVectorizer object to convert the company names into a numerical feature representation\n",
        "vectorizer = CountVectorizer()\n",
        "X_train = vectorizer.fit_transform(X_train)\n",
        "\n",
        "clf = MultinomialNB()\n",
        "clf.fit(X_train, y_train)\n",
        "\n",
        "# Load test data \n",
        "df_test = pd.read_csv(\"/Users/christianturner/Desktop/AT Company Industry Test.csv\", header=0,names=['Company Name','Industry'])\n",
        "X_test = df_test['Company Name']\n",
        "y_test = df_test['Industry']\n",
        "\n",
        "# Convert the test data into a numerical feature representation\n",
        "X_test = vectorizer.transform(X_test)\n",
        "\n",
        "# Use the trained model to predict the industries for the test data\n",
        "y_pred = clf.predict(X_test)\n",
        "\n",
        "#read lines in the .csv\n",
        "with open('/Users/christianturner/Desktop/AT Company Industry Test.csv', 'r') as fi:\n",
        "  lines = [[i.strip() for i in line.strip().split(',')]\n",
        "                for line in fi.readlines()]\n",
        "  col = ['Industry Test', y_pred]\n",
        "\n",
        "# Concatenate each row with corresponding element of col. Using enumerate to help keep track of which list index to use\n",
        "new_lines = [line + [str(col[i])] for i, line in enumerate(lines)]\n",
        "\n",
        "# Output file \n",
        "with open(\"/Users/christianturner/Desktop/AT Company Industry Test.csv\", 'w') as fo: \n",
        "  for line in new_lines:\n",
        "    fo.write(','.join(line) + '\\n')\n",
        "\n",
        "# Calculate the accuracy of the model in the test data\n",
        "# accuracy = accuracy_score(y_test, y_pred)\n",
        "# print(\"Accuracy\", accuracy)"
      ],
      "metadata": {
        "id": "Vpe6qPHwDe3U"
      },
      "execution_count": null,
      "outputs": []
    },
    {
      "cell_type": "code",
      "source": [],
      "metadata": {
        "id": "QuHAmvK0QWE-"
      },
      "execution_count": null,
      "outputs": []
    }
  ]
}